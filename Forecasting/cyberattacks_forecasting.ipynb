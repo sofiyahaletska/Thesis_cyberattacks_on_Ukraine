{
 "cells": [
  {
   "cell_type": "markdown",
   "id": "0b528d4a",
   "metadata": {},
   "source": [
    "# Cyberattacks forecasting | Ukraine"
   ]
  },
  {
   "cell_type": "markdown",
   "id": "de85eb42",
   "metadata": {},
   "source": [
    "## Importing needed libraries"
   ]
  },
  {
   "cell_type": "code",
   "execution_count": 137,
   "id": "eb756806",
   "metadata": {},
   "outputs": [],
   "source": [
    "import pandas as pd\n",
    "import altair as alt\n",
    "import re\n",
    "import warnings\n",
    "warnings.filterwarnings(\"ignore\")"
   ]
  },
  {
   "cell_type": "markdown",
   "id": "81242cce",
   "metadata": {},
   "source": [
    "## Creating useful variables"
   ]
  },
  {
   "cell_type": "code",
   "execution_count": 138,
   "id": "6bded0d1",
   "metadata": {},
   "outputs": [],
   "source": [
    "range_ = ['orange', 'steelblue']"
   ]
  },
  {
   "cell_type": "markdown",
   "id": "11d1e70f",
   "metadata": {},
   "source": [
    "## Reading and modifying the dataset"
   ]
  },
  {
   "cell_type": "code",
   "execution_count": 139,
   "id": "8dd9d8c7",
   "metadata": {
    "scrolled": true
   },
   "outputs": [
    {
     "data": {
      "text/html": [
       "<div>\n",
       "<style scoped>\n",
       "    .dataframe tbody tr th:only-of-type {\n",
       "        vertical-align: middle;\n",
       "    }\n",
       "\n",
       "    .dataframe tbody tr th {\n",
       "        vertical-align: top;\n",
       "    }\n",
       "\n",
       "    .dataframe thead th {\n",
       "        text-align: right;\n",
       "    }\n",
       "</style>\n",
       "<table border=\"1\" class=\"dataframe\">\n",
       "  <thead>\n",
       "    <tr style=\"text-align: right;\">\n",
       "      <th></th>\n",
       "      <th>Malicious code (02.00)</th>\n",
       "      <th>Information Content Security (07.00)</th>\n",
       "    </tr>\n",
       "  </thead>\n",
       "  <tbody>\n",
       "    <tr>\n",
       "      <th>0</th>\n",
       "      <td>2022-01-27</td>\n",
       "      <td>2022-01-14</td>\n",
       "    </tr>\n",
       "    <tr>\n",
       "      <th>1</th>\n",
       "      <td>2022-01-28</td>\n",
       "      <td>2022-01-27</td>\n",
       "    </tr>\n",
       "    <tr>\n",
       "      <th>2</th>\n",
       "      <td>2022-01-28</td>\n",
       "      <td>2022-01-28</td>\n",
       "    </tr>\n",
       "    <tr>\n",
       "      <th>3</th>\n",
       "      <td>2022-02-01</td>\n",
       "      <td>2022-02-01</td>\n",
       "    </tr>\n",
       "    <tr>\n",
       "      <th>4</th>\n",
       "      <td>2022-02-16</td>\n",
       "      <td>2022-02-28</td>\n",
       "    </tr>\n",
       "  </tbody>\n",
       "</table>\n",
       "</div>"
      ],
      "text/plain": [
       "  Malicious code (02.00) Information Content Security (07.00)\n",
       "0             2022-01-27                           2022-01-14\n",
       "1             2022-01-28                           2022-01-27\n",
       "2             2022-01-28                           2022-01-28\n",
       "3             2022-02-01                           2022-02-01\n",
       "4             2022-02-16                           2022-02-28"
      ]
     },
     "execution_count": 139,
     "metadata": {},
     "output_type": "execute_result"
    }
   ],
   "source": [
    "data1 = pd.read_excel('../Data/Dataset of Cyberattacks on Ukraine in dates (2022).xlsx')\n",
    "data1.head()"
   ]
  },
  {
   "cell_type": "code",
   "execution_count": 152,
   "id": "49d3ae4d",
   "metadata": {},
   "outputs": [],
   "source": [
    "data1_ = pd.melt(data1)\n",
    "data1_ = data1_[data1_.value.notnull()].reset_index()\n",
    "data1_.drop(['index'], axis = 1, inplace = True)"
   ]
  },
  {
   "cell_type": "code",
   "execution_count": 156,
   "id": "23d15003",
   "metadata": {
    "scrolled": true
   },
   "outputs": [
    {
     "data": {
      "text/html": [
       "<div>\n",
       "<style scoped>\n",
       "    .dataframe tbody tr th:only-of-type {\n",
       "        vertical-align: middle;\n",
       "    }\n",
       "\n",
       "    .dataframe tbody tr th {\n",
       "        vertical-align: top;\n",
       "    }\n",
       "\n",
       "    .dataframe thead th {\n",
       "        text-align: right;\n",
       "    }\n",
       "</style>\n",
       "<table border=\"1\" class=\"dataframe\">\n",
       "  <thead>\n",
       "    <tr style=\"text-align: right;\">\n",
       "      <th></th>\n",
       "      <th>Week #</th>\n",
       "      <th>Time (start of the week)</th>\n",
       "      <th>Malicious code (02.00)</th>\n",
       "      <th>Information Content Security (07.00)</th>\n",
       "    </tr>\n",
       "  </thead>\n",
       "  <tbody>\n",
       "    <tr>\n",
       "      <th>0</th>\n",
       "      <td>1.0</td>\n",
       "      <td>2022-01-01</td>\n",
       "      <td>0.0</td>\n",
       "      <td>0.0</td>\n",
       "    </tr>\n",
       "    <tr>\n",
       "      <th>1</th>\n",
       "      <td>2.0</td>\n",
       "      <td>2022-01-08</td>\n",
       "      <td>0.0</td>\n",
       "      <td>1.0</td>\n",
       "    </tr>\n",
       "    <tr>\n",
       "      <th>2</th>\n",
       "      <td>3.0</td>\n",
       "      <td>2022-01-15</td>\n",
       "      <td>0.0</td>\n",
       "      <td>0.0</td>\n",
       "    </tr>\n",
       "    <tr>\n",
       "      <th>3</th>\n",
       "      <td>4.0</td>\n",
       "      <td>2022-01-22</td>\n",
       "      <td>3.0</td>\n",
       "      <td>2.0</td>\n",
       "    </tr>\n",
       "    <tr>\n",
       "      <th>4</th>\n",
       "      <td>5.0</td>\n",
       "      <td>2022-01-29</td>\n",
       "      <td>1.0</td>\n",
       "      <td>1.0</td>\n",
       "    </tr>\n",
       "  </tbody>\n",
       "</table>\n",
       "</div>"
      ],
      "text/plain": [
       "   Week # Time (start of the week)  Malicious code (02.00)  \\\n",
       "0     1.0               2022-01-01                     0.0   \n",
       "1     2.0               2022-01-08                     0.0   \n",
       "2     3.0               2022-01-15                     0.0   \n",
       "3     4.0               2022-01-22                     3.0   \n",
       "4     5.0               2022-01-29                     1.0   \n",
       "\n",
       "   Information Content Security (07.00)  \n",
       "0                                   0.0  \n",
       "1                                   1.0  \n",
       "2                                   0.0  \n",
       "3                                   2.0  \n",
       "4                                   1.0  "
      ]
     },
     "execution_count": 156,
     "metadata": {},
     "output_type": "execute_result"
    }
   ],
   "source": [
    "data2 = pd.read_excel('../Data/Dataset of Cyberattacks on Ukraine in numbers (2022).xlsx')\n",
    "data2.head()"
   ]
  },
  {
   "cell_type": "code",
   "execution_count": 157,
   "id": "7e3f3e11",
   "metadata": {},
   "outputs": [],
   "source": [
    "data2_ = pd.melt(data2, id_vars=['Week #', 'Time (start of the week)'], value_vars=['Malicious code (02.00)', 'Information Content Security (07.00)'], var_name='types', value_name='number')\n",
    "data2_['Week #'] = data2_['Week #'].astype(int)\n",
    "data2_['number'] = data2_['number'].astype(int)"
   ]
  },
  {
   "cell_type": "markdown",
   "id": "2db399ca",
   "metadata": {},
   "source": [
    "## Visualizing distributions"
   ]
  },
  {
   "cell_type": "code",
   "execution_count": 153,
   "id": "fbce74d4",
   "metadata": {},
   "outputs": [],
   "source": [
    "mal = alt.Chart(data1_).mark_bar(interpolate = 'step-after', color = 'steelblue').encode(\n",
    "    x = alt.X('day(value):O'),\n",
    "    y = alt.Y('count():Q', axis=alt.Axis(tickMinStep=1))\n",
    ").transform_filter(\n",
    "    alt.FieldEqualPredicate(field='variable', equal=\"Malicious code (02.00)\")\n",
    ").properties(width = 850, height = 100)"
   ]
  },
  {
   "cell_type": "code",
   "execution_count": 154,
   "id": "6020a337",
   "metadata": {},
   "outputs": [],
   "source": [
    "ics = alt.Chart(data1_).mark_bar(interpolate = 'step-after', color = 'orange').encode(\n",
    "    x = alt.X('day(value):O'),\n",
    "    y = alt.Y('count():Q', axis=alt.Axis(tickMinStep=1))\n",
    ").transform_filter(\n",
    "    alt.FieldEqualPredicate(field='variable', equal=\"Information Content Security (07.00)\")\n",
    ").properties(width = 850, height = 100)"
   ]
  },
  {
   "cell_type": "code",
   "execution_count": 155,
   "id": "19bbe15d",
   "metadata": {},
   "outputs": [
    {
     "data": {
      "text/html": [
       "\n",
       "<div id=\"altair-viz-268df2bdb0fc48188f32c9cd524a6371\"></div>\n",
       "<script type=\"text/javascript\">\n",
       "  (function(spec, embedOpt){\n",
       "    let outputDiv = document.currentScript.previousElementSibling;\n",
       "    if (outputDiv.id !== \"altair-viz-268df2bdb0fc48188f32c9cd524a6371\") {\n",
       "      outputDiv = document.getElementById(\"altair-viz-268df2bdb0fc48188f32c9cd524a6371\");\n",
       "    }\n",
       "    const paths = {\n",
       "      \"vega\": \"https://cdn.jsdelivr.net/npm//vega@5?noext\",\n",
       "      \"vega-lib\": \"https://cdn.jsdelivr.net/npm//vega-lib?noext\",\n",
       "      \"vega-lite\": \"https://cdn.jsdelivr.net/npm//vega-lite@4.8.1?noext\",\n",
       "      \"vega-embed\": \"https://cdn.jsdelivr.net/npm//vega-embed@6?noext\",\n",
       "    };\n",
       "\n",
       "    function loadScript(lib) {\n",
       "      return new Promise(function(resolve, reject) {\n",
       "        var s = document.createElement('script');\n",
       "        s.src = paths[lib];\n",
       "        s.async = true;\n",
       "        s.onload = () => resolve(paths[lib]);\n",
       "        s.onerror = () => reject(`Error loading script: ${paths[lib]}`);\n",
       "        document.getElementsByTagName(\"head\")[0].appendChild(s);\n",
       "      });\n",
       "    }\n",
       "\n",
       "    function showError(err) {\n",
       "      outputDiv.innerHTML = `<div class=\"error\" style=\"color:red;\">${err}</div>`;\n",
       "      throw err;\n",
       "    }\n",
       "\n",
       "    function displayChart(vegaEmbed) {\n",
       "      vegaEmbed(outputDiv, spec, embedOpt)\n",
       "        .catch(err => showError(`Javascript Error: ${err.message}<br>This usually means there's a typo in your chart specification. See the javascript console for the full traceback.`));\n",
       "    }\n",
       "\n",
       "    if(typeof define === \"function\" && define.amd) {\n",
       "      requirejs.config({paths});\n",
       "      require([\"vega-embed\"], displayChart, err => showError(`Error loading script: ${err.message}`));\n",
       "    } else if (typeof vegaEmbed === \"function\") {\n",
       "      displayChart(vegaEmbed);\n",
       "    } else {\n",
       "      loadScript(\"vega\")\n",
       "        .then(() => loadScript(\"vega-lite\"))\n",
       "        .then(() => loadScript(\"vega-embed\"))\n",
       "        .catch(showError)\n",
       "        .then(() => displayChart(vegaEmbed));\n",
       "    }\n",
       "  })({\"config\": {\"view\": {\"continuousWidth\": 400, \"continuousHeight\": 300, \"strokeWidth\": 0}, \"axis\": {\"labelPadding\": 5}, \"title\": {\"anchor\": \"start\", \"fontSize\": 24, \"frame\": \"group\", \"subtitleFontSize\": 16}}, \"vconcat\": [{\"mark\": {\"type\": \"bar\", \"color\": \"steelblue\", \"interpolate\": \"step-after\"}, \"encoding\": {\"x\": {\"type\": \"ordinal\", \"field\": \"value\", \"timeUnit\": \"day\"}, \"y\": {\"type\": \"quantitative\", \"aggregate\": \"count\", \"axis\": {\"tickMinStep\": 1}}}, \"height\": 100, \"transform\": [{\"filter\": {\"equal\": \"Malicious code (02.00)\", \"field\": \"variable\"}}], \"width\": 850}, {\"mark\": {\"type\": \"bar\", \"color\": \"orange\", \"interpolate\": \"step-after\"}, \"encoding\": {\"x\": {\"type\": \"ordinal\", \"field\": \"value\", \"timeUnit\": \"day\"}, \"y\": {\"type\": \"quantitative\", \"aggregate\": \"count\", \"axis\": {\"tickMinStep\": 1}}}, \"height\": 100, \"transform\": [{\"filter\": {\"equal\": \"Information Content Security (07.00)\", \"field\": \"variable\"}}], \"width\": 850}], \"background\": \"#F9F9F9\", \"data\": {\"name\": \"data-69012b8a8518f9590780fd1b61166f47\"}, \"padding\": 25, \"title\": {\"text\": \"Distribution of cyberattacks by days of the week\", \"subtitle\": \"Malicious code (02.00) | Information Content Security (07.00)\"}, \"$schema\": \"https://vega.github.io/schema/vega-lite/v4.8.1.json\", \"datasets\": {\"data-69012b8a8518f9590780fd1b61166f47\": [{\"variable\": \"Malicious code (02.00)\", \"value\": \"2022-01-27T00:00:00\"}, {\"variable\": \"Malicious code (02.00)\", \"value\": \"2022-01-28T00:00:00\"}, {\"variable\": \"Malicious code (02.00)\", \"value\": \"2022-01-28T00:00:00\"}, {\"variable\": \"Malicious code (02.00)\", \"value\": \"2022-02-01T00:00:00\"}, {\"variable\": \"Malicious code (02.00)\", \"value\": \"2022-02-16T00:00:00\"}, {\"variable\": \"Malicious code (02.00)\", \"value\": \"2022-02-28T00:00:00\"}, {\"variable\": \"Malicious code (02.00)\", \"value\": \"2022-03-07T00:00:00\"}, {\"variable\": \"Malicious code (02.00)\", \"value\": \"2022-03-09T00:00:00\"}, {\"variable\": \"Malicious code (02.00)\", \"value\": \"2022-03-10T00:00:00\"}, {\"variable\": \"Malicious code (02.00)\", \"value\": \"2022-03-14T00:00:00\"}, {\"variable\": \"Malicious code (02.00)\", \"value\": \"2022-03-17T00:00:00\"}, {\"variable\": \"Malicious code (02.00)\", \"value\": \"2022-03-17T00:00:00\"}, {\"variable\": \"Malicious code (02.00)\", \"value\": \"2022-03-18T00:00:00\"}, {\"variable\": \"Malicious code (02.00)\", \"value\": \"2022-03-21T00:00:00\"}, {\"variable\": \"Malicious code (02.00)\", \"value\": \"2022-03-22T00:00:00\"}, {\"variable\": \"Malicious code (02.00)\", \"value\": \"2022-03-25T00:00:00\"}, {\"variable\": \"Malicious code (02.00)\", \"value\": \"2022-03-28T00:00:00\"}, {\"variable\": \"Malicious code (02.00)\", \"value\": \"2022-04-03T00:00:00\"}, {\"variable\": \"Malicious code (02.00)\", \"value\": \"2022-04-07T00:00:00\"}, {\"variable\": \"Malicious code (02.00)\", \"value\": \"2022-04-07T00:00:00\"}, {\"variable\": \"Malicious code (02.00)\", \"value\": \"2022-04-08T00:00:00\"}, {\"variable\": \"Malicious code (02.00)\", \"value\": \"2022-04-17T00:00:00\"}, {\"variable\": \"Malicious code (02.00)\", \"value\": \"2022-04-26T00:00:00\"}, {\"variable\": \"Malicious code (02.00)\", \"value\": \"2022-04-27T00:00:00\"}, {\"variable\": \"Malicious code (02.00)\", \"value\": \"2022-05-06T00:00:00\"}, {\"variable\": \"Malicious code (02.00)\", \"value\": \"2022-05-06T00:00:00\"}, {\"variable\": \"Malicious code (02.00)\", \"value\": \"2022-05-12T00:00:00\"}, {\"variable\": \"Information Content Security (07.00)\", \"value\": \"2022-01-14T00:00:00\"}, {\"variable\": \"Information Content Security (07.00)\", \"value\": \"2022-01-27T00:00:00\"}, {\"variable\": \"Information Content Security (07.00)\", \"value\": \"2022-01-28T00:00:00\"}, {\"variable\": \"Information Content Security (07.00)\", \"value\": \"2022-02-01T00:00:00\"}, {\"variable\": \"Information Content Security (07.00)\", \"value\": \"2022-02-28T00:00:00\"}, {\"variable\": \"Information Content Security (07.00)\", \"value\": \"2022-03-07T00:00:00\"}, {\"variable\": \"Information Content Security (07.00)\", \"value\": \"2022-03-07T00:00:00\"}, {\"variable\": \"Information Content Security (07.00)\", \"value\": \"2022-03-09T00:00:00\"}, {\"variable\": \"Information Content Security (07.00)\", \"value\": \"2022-03-10T00:00:00\"}, {\"variable\": \"Information Content Security (07.00)\", \"value\": \"2022-03-17T00:00:00\"}, {\"variable\": \"Information Content Security (07.00)\", \"value\": \"2022-03-18T00:00:00\"}, {\"variable\": \"Information Content Security (07.00)\", \"value\": \"2022-03-21T00:00:00\"}, {\"variable\": \"Information Content Security (07.00)\", \"value\": \"2022-03-25T00:00:00\"}, {\"variable\": \"Information Content Security (07.00)\", \"value\": \"2022-03-28T00:00:00\"}, {\"variable\": \"Information Content Security (07.00)\", \"value\": \"2022-03-28T00:00:00\"}, {\"variable\": \"Information Content Security (07.00)\", \"value\": \"2022-04-02T00:00:00\"}, {\"variable\": \"Information Content Security (07.00)\", \"value\": \"2022-04-03T00:00:00\"}, {\"variable\": \"Information Content Security (07.00)\", \"value\": \"2022-04-12T00:00:00\"}, {\"variable\": \"Information Content Security (07.00)\", \"value\": \"2022-04-17T00:00:00\"}, {\"variable\": \"Information Content Security (07.00)\", \"value\": \"2022-04-26T00:00:00\"}, {\"variable\": \"Information Content Security (07.00)\", \"value\": \"2022-04-27T00:00:00\"}, {\"variable\": \"Information Content Security (07.00)\", \"value\": \"2022-05-06T00:00:00\"}, {\"variable\": \"Information Content Security (07.00)\", \"value\": \"2022-05-06T00:00:00\"}, {\"variable\": \"Information Content Security (07.00)\", \"value\": \"2022-05-12T00:00:00\"}]}}, {\"mode\": \"vega-lite\"});\n",
       "</script>"
      ],
      "text/plain": [
       "alt.VConcatChart(...)"
      ]
     },
     "execution_count": 155,
     "metadata": {},
     "output_type": "execute_result"
    }
   ],
   "source": [
    "alt.vconcat(\n",
    "    mal,\n",
    "    ics\n",
    ").properties(background = '#F9F9F9', padding = 25,\n",
    "             title = alt.TitleParams(\n",
    "        text = 'Distribution of cyberattacks by days of the week',\n",
    "        subtitle = 'Malicious code (02.00) | Information Content Security (07.00)'\n",
    "    )).configure_view(\n",
    "    strokeWidth = 0\n",
    ").configure_axis(\n",
    "    labelPadding = 5\n",
    ").configure_title(\n",
    "    anchor = 'start',\n",
    "    frame = 'group',\n",
    "    fontSize = 24,\n",
    "    subtitleFontSize = 16)"
   ]
  },
  {
   "cell_type": "code",
   "execution_count": 158,
   "id": "8e1f6cd0",
   "metadata": {},
   "outputs": [
    {
     "data": {
      "text/html": [
       "\n",
       "<div id=\"altair-viz-28f5a5d0afb643eca4c23eb113a502c7\"></div>\n",
       "<script type=\"text/javascript\">\n",
       "  (function(spec, embedOpt){\n",
       "    let outputDiv = document.currentScript.previousElementSibling;\n",
       "    if (outputDiv.id !== \"altair-viz-28f5a5d0afb643eca4c23eb113a502c7\") {\n",
       "      outputDiv = document.getElementById(\"altair-viz-28f5a5d0afb643eca4c23eb113a502c7\");\n",
       "    }\n",
       "    const paths = {\n",
       "      \"vega\": \"https://cdn.jsdelivr.net/npm//vega@5?noext\",\n",
       "      \"vega-lib\": \"https://cdn.jsdelivr.net/npm//vega-lib?noext\",\n",
       "      \"vega-lite\": \"https://cdn.jsdelivr.net/npm//vega-lite@4.8.1?noext\",\n",
       "      \"vega-embed\": \"https://cdn.jsdelivr.net/npm//vega-embed@6?noext\",\n",
       "    };\n",
       "\n",
       "    function loadScript(lib) {\n",
       "      return new Promise(function(resolve, reject) {\n",
       "        var s = document.createElement('script');\n",
       "        s.src = paths[lib];\n",
       "        s.async = true;\n",
       "        s.onload = () => resolve(paths[lib]);\n",
       "        s.onerror = () => reject(`Error loading script: ${paths[lib]}`);\n",
       "        document.getElementsByTagName(\"head\")[0].appendChild(s);\n",
       "      });\n",
       "    }\n",
       "\n",
       "    function showError(err) {\n",
       "      outputDiv.innerHTML = `<div class=\"error\" style=\"color:red;\">${err}</div>`;\n",
       "      throw err;\n",
       "    }\n",
       "\n",
       "    function displayChart(vegaEmbed) {\n",
       "      vegaEmbed(outputDiv, spec, embedOpt)\n",
       "        .catch(err => showError(`Javascript Error: ${err.message}<br>This usually means there's a typo in your chart specification. See the javascript console for the full traceback.`));\n",
       "    }\n",
       "\n",
       "    if(typeof define === \"function\" && define.amd) {\n",
       "      requirejs.config({paths});\n",
       "      require([\"vega-embed\"], displayChart, err => showError(`Error loading script: ${err.message}`));\n",
       "    } else if (typeof vegaEmbed === \"function\") {\n",
       "      displayChart(vegaEmbed);\n",
       "    } else {\n",
       "      loadScript(\"vega\")\n",
       "        .then(() => loadScript(\"vega-lite\"))\n",
       "        .then(() => loadScript(\"vega-embed\"))\n",
       "        .catch(showError)\n",
       "        .then(() => displayChart(vegaEmbed));\n",
       "    }\n",
       "  })({\"config\": {\"view\": {\"continuousWidth\": 400, \"continuousHeight\": 300, \"strokeWidth\": 0}, \"axis\": {\"labelPadding\": 5}, \"title\": {\"anchor\": \"start\", \"fontSize\": 24, \"frame\": \"group\", \"subtitleFontSize\": 16}}, \"data\": {\"name\": \"data-1b12db585b5dfefd85dc83924649dc1f\"}, \"mark\": {\"type\": \"line\", \"interpolate\": \"step-after\"}, \"background\": \"#F9F9F9\", \"encoding\": {\"color\": {\"type\": \"ordinal\", \"field\": \"types\", \"legend\": {\"orient\": \"bottom\"}, \"scale\": {\"range\": [\"orange\", \"steelblue\"]}}, \"x\": {\"type\": \"temporal\", \"field\": \"Time (start of the week)\"}, \"y\": {\"type\": \"quantitative\", \"axis\": {\"tickMinStep\": 1}, \"field\": \"number\"}}, \"height\": 200, \"padding\": 25, \"title\": {\"text\": \"Distribution of cyberattacks\", \"subtitle\": \"Malicious code (02.00) | Information Content Security (07.00)\"}, \"width\": 850, \"$schema\": \"https://vega.github.io/schema/vega-lite/v4.8.1.json\", \"datasets\": {\"data-1b12db585b5dfefd85dc83924649dc1f\": [{\"Week #\": 1, \"Time (start of the week)\": \"2022-01-01T00:00:00\", \"types\": \"Malicious code (02.00)\", \"number\": 0}, {\"Week #\": 2, \"Time (start of the week)\": \"2022-01-08T00:00:00\", \"types\": \"Malicious code (02.00)\", \"number\": 0}, {\"Week #\": 3, \"Time (start of the week)\": \"2022-01-15T00:00:00\", \"types\": \"Malicious code (02.00)\", \"number\": 0}, {\"Week #\": 4, \"Time (start of the week)\": \"2022-01-22T00:00:00\", \"types\": \"Malicious code (02.00)\", \"number\": 3}, {\"Week #\": 5, \"Time (start of the week)\": \"2022-01-29T00:00:00\", \"types\": \"Malicious code (02.00)\", \"number\": 1}, {\"Week #\": 6, \"Time (start of the week)\": \"2022-02-05T00:00:00\", \"types\": \"Malicious code (02.00)\", \"number\": 0}, {\"Week #\": 7, \"Time (start of the week)\": \"2022-02-12T00:00:00\", \"types\": \"Malicious code (02.00)\", \"number\": 1}, {\"Week #\": 8, \"Time (start of the week)\": \"2022-02-19T00:00:00\", \"types\": \"Malicious code (02.00)\", \"number\": 0}, {\"Week #\": 9, \"Time (start of the week)\": \"2022-02-26T00:00:00\", \"types\": \"Malicious code (02.00)\", \"number\": 1}, {\"Week #\": 10, \"Time (start of the week)\": \"2022-03-05T00:00:00\", \"types\": \"Malicious code (02.00)\", \"number\": 3}, {\"Week #\": 11, \"Time (start of the week)\": \"2022-03-12T00:00:00\", \"types\": \"Malicious code (02.00)\", \"number\": 3}, {\"Week #\": 12, \"Time (start of the week)\": \"2022-03-19T00:00:00\", \"types\": \"Malicious code (02.00)\", \"number\": 3}, {\"Week #\": 13, \"Time (start of the week)\": \"2022-03-26T00:00:00\", \"types\": \"Malicious code (02.00)\", \"number\": 1}, {\"Week #\": 14, \"Time (start of the week)\": \"2022-04-02T00:00:00\", \"types\": \"Malicious code (02.00)\", \"number\": 4}, {\"Week #\": 15, \"Time (start of the week)\": \"2022-04-09T00:00:00\", \"types\": \"Malicious code (02.00)\", \"number\": 0}, {\"Week #\": 16, \"Time (start of the week)\": \"2022-04-16T00:00:00\", \"types\": \"Malicious code (02.00)\", \"number\": 1}, {\"Week #\": 17, \"Time (start of the week)\": \"2022-04-23T00:00:00\", \"types\": \"Malicious code (02.00)\", \"number\": 2}, {\"Week #\": 18, \"Time (start of the week)\": \"2022-04-30T00:00:00\", \"types\": \"Malicious code (02.00)\", \"number\": 2}, {\"Week #\": 19, \"Time (start of the week)\": \"2022-05-07T00:00:00\", \"types\": \"Malicious code (02.00)\", \"number\": 1}, {\"Week #\": 20, \"Time (start of the week)\": \"2022-05-14T00:00:00\", \"types\": \"Malicious code (02.00)\", \"number\": 0}, {\"Week #\": 1, \"Time (start of the week)\": \"2022-01-01T00:00:00\", \"types\": \"Information Content Security (07.00)\", \"number\": 0}, {\"Week #\": 2, \"Time (start of the week)\": \"2022-01-08T00:00:00\", \"types\": \"Information Content Security (07.00)\", \"number\": 1}, {\"Week #\": 3, \"Time (start of the week)\": \"2022-01-15T00:00:00\", \"types\": \"Information Content Security (07.00)\", \"number\": 0}, {\"Week #\": 4, \"Time (start of the week)\": \"2022-01-22T00:00:00\", \"types\": \"Information Content Security (07.00)\", \"number\": 2}, {\"Week #\": 5, \"Time (start of the week)\": \"2022-01-29T00:00:00\", \"types\": \"Information Content Security (07.00)\", \"number\": 1}, {\"Week #\": 6, \"Time (start of the week)\": \"2022-02-05T00:00:00\", \"types\": \"Information Content Security (07.00)\", \"number\": 0}, {\"Week #\": 7, \"Time (start of the week)\": \"2022-02-12T00:00:00\", \"types\": \"Information Content Security (07.00)\", \"number\": 0}, {\"Week #\": 8, \"Time (start of the week)\": \"2022-02-19T00:00:00\", \"types\": \"Information Content Security (07.00)\", \"number\": 0}, {\"Week #\": 9, \"Time (start of the week)\": \"2022-02-26T00:00:00\", \"types\": \"Information Content Security (07.00)\", \"number\": 1}, {\"Week #\": 10, \"Time (start of the week)\": \"2022-03-05T00:00:00\", \"types\": \"Information Content Security (07.00)\", \"number\": 4}, {\"Week #\": 11, \"Time (start of the week)\": \"2022-03-12T00:00:00\", \"types\": \"Information Content Security (07.00)\", \"number\": 2}, {\"Week #\": 12, \"Time (start of the week)\": \"2022-03-19T00:00:00\", \"types\": \"Information Content Security (07.00)\", \"number\": 2}, {\"Week #\": 13, \"Time (start of the week)\": \"2022-03-26T00:00:00\", \"types\": \"Information Content Security (07.00)\", \"number\": 2}, {\"Week #\": 14, \"Time (start of the week)\": \"2022-04-02T00:00:00\", \"types\": \"Information Content Security (07.00)\", \"number\": 2}, {\"Week #\": 15, \"Time (start of the week)\": \"2022-04-09T00:00:00\", \"types\": \"Information Content Security (07.00)\", \"number\": 1}, {\"Week #\": 16, \"Time (start of the week)\": \"2022-04-16T00:00:00\", \"types\": \"Information Content Security (07.00)\", \"number\": 1}, {\"Week #\": 17, \"Time (start of the week)\": \"2022-04-23T00:00:00\", \"types\": \"Information Content Security (07.00)\", \"number\": 2}, {\"Week #\": 18, \"Time (start of the week)\": \"2022-04-30T00:00:00\", \"types\": \"Information Content Security (07.00)\", \"number\": 2}, {\"Week #\": 19, \"Time (start of the week)\": \"2022-05-07T00:00:00\", \"types\": \"Information Content Security (07.00)\", \"number\": 1}, {\"Week #\": 20, \"Time (start of the week)\": \"2022-05-14T00:00:00\", \"types\": \"Information Content Security (07.00)\", \"number\": 0}]}}, {\"mode\": \"vega-lite\"});\n",
       "</script>"
      ],
      "text/plain": [
       "alt.Chart(...)"
      ]
     },
     "execution_count": 158,
     "metadata": {},
     "output_type": "execute_result"
    }
   ],
   "source": [
    "alt.Chart(data2_).mark_line(interpolate = 'step-after').encode(\n",
    "    x = alt.X('Time (start of the week):T'),\n",
    "    y = alt.Y('number:Q', axis=alt.Axis(tickMinStep=1)),\n",
    "    color = alt.Color('types:O', scale=alt.Scale(range=range_), legend=alt.Legend(orient = 'bottom'))\n",
    ").properties(width = 850, height = 200, background = '#F9F9F9', padding = 25,\n",
    "             title = alt.TitleParams(\n",
    "        text = 'Distribution of cyberattacks',\n",
    "        subtitle = 'Malicious code (02.00) | Information Content Security (07.00)'\n",
    "    )).configure_view(\n",
    "    strokeWidth = 0\n",
    ").configure_axis(\n",
    "    labelPadding = 5\n",
    ").configure_title(\n",
    "    anchor = 'start',\n",
    "    frame = 'group',\n",
    "    fontSize = 24,\n",
    "    subtitleFontSize = 16)"
   ]
  }
 ],
 "metadata": {
  "kernelspec": {
   "display_name": "Python 3 (ipykernel)",
   "language": "python",
   "name": "python3"
  },
  "language_info": {
   "codemirror_mode": {
    "name": "ipython",
    "version": 3
   },
   "file_extension": ".py",
   "mimetype": "text/x-python",
   "name": "python",
   "nbconvert_exporter": "python",
   "pygments_lexer": "ipython3",
   "version": "3.9.13"
  }
 },
 "nbformat": 4,
 "nbformat_minor": 5
}
